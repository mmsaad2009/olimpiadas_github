{
  "nbformat": 4,
  "nbformat_minor": 0,
  "metadata": {
    "colab": {
      "provenance": [],
      "include_colab_link": true
    },
    "kernelspec": {
      "name": "python3",
      "display_name": "Python 3"
    },
    "language_info": {
      "name": "python"
    }
  },
  "cells": [
    {
      "cell_type": "markdown",
      "metadata": {
        "id": "view-in-github",
        "colab_type": "text"
      },
      "source": [
        "<a href=\"https://colab.research.google.com/github/mmsaad2009/olimpiadas_github/blob/main/Minha_Imers%C3%A3o_IA_Alura_%2B_Google_Gemini_Aula_05_Agentes.ipynb\" target=\"_parent\"><img src=\"https://colab.research.google.com/assets/colab-badge.svg\" alt=\"Open In Colab\"/></a>"
      ]
    },
    {
      "cell_type": "code",
      "source": [
        "%pip -q install google-genai"
      ],
      "metadata": {
        "id": "UCCbECexLk_h"
      },
      "execution_count": null,
      "outputs": []
    },
    {
      "cell_type": "code",
      "source": [
        "# Configura a API Key do Google Gemini\n",
        "\n",
        "import os\n",
        "from google.colab import userdata\n",
        "\n",
        "os.environ[\"GOOGLE_API_KEY\"] = userdata.get('GOOGLE_API_KEY')"
      ],
      "metadata": {
        "id": "NfCqHo1tLk8P"
      },
      "execution_count": null,
      "outputs": []
    },
    {
      "cell_type": "code",
      "source": [
        "# Configura o cliente da SDK do Gemini\n",
        "\n",
        "from google import genai\n",
        "\n",
        "client = genai.Client()\n",
        "\n",
        "MODEL_ID = \"gemini-2.0-flash\""
      ],
      "metadata": {
        "id": "bV4w0H5TLk5g"
      },
      "execution_count": null,
      "outputs": []
    },
    {
      "cell_type": "code",
      "source": [
        "# Pergunta ao Gemini uma informação mais recente que seu conhecimento\n",
        "\n",
        "from IPython.display import HTML, Markdown\n",
        "pergunta='Quando é a próxima imersão IA com o Google Gemini da Alura'\n",
        "\n",
        "# Perguntar pro modelo quando é a próxima imersão de IA ###############################################\n",
        "resposta = client.models.generate_content(\n",
        "    model=MODEL_ID,\n",
        "    contents=pergunta\n",
        ")\n",
        "\n",
        "# Exibe a resposta na tela\n",
        "display(f\"Pergunta: {pergunta}\")\n",
        "display(Markdown(f\"Resposta:\\n {resposta.text}\"))"
      ],
      "metadata": {
        "id": "HwVP7Xi34Zuw",
        "colab": {
          "base_uri": "https://localhost:8080/",
          "height": 175
        },
        "outputId": "bc4183d2-da2e-4ef2-ccab-7c0bf590ee8e"
      },
      "execution_count": null,
      "outputs": [
        {
          "output_type": "display_data",
          "data": {
            "text/plain": [
              "'Pergunta: Quando é a próxima imersão IA com o Google Gemini da Alura'"
            ],
            "application/vnd.google.colaboratory.intrinsic+json": {
              "type": "string"
            }
          },
          "metadata": {}
        },
        {
          "output_type": "display_data",
          "data": {
            "text/plain": [
              "<IPython.core.display.Markdown object>"
            ],
            "text/markdown": "Resposta:\n A Alura não tem uma data fixa para a próxima Imersão IA com Google Gemini. Para saber quando será a próxima edição, o ideal é:\n\n*   **Acompanhar as redes sociais e o site da Alura:** A Alura geralmente divulga as datas das imersões em seus canais de comunicação (LinkedIn, Instagram, Twitter, site oficial).\n*   **Verificar a página da Imersão IA com Google Gemini:** Procure no site da Alura pela página específica da imersão. Mesmo que não tenha uma data definida, pode ter um formulário para você se inscrever e receber notificações sobre as próximas edições.\n*   **Entrar em contato com a Alura:** Se você não encontrar informações nos canais online, pode entrar em contato diretamente com a Alura através do suporte ao cliente ou canais de atendimento."
          },
          "metadata": {}
        }
      ]
    },
    {
      "cell_type": "code",
      "source": [
        "# Pergunta ao Gemini uma informação utilizando a busca do Google como contexto\n",
        "\n",
        "response = client.models.generate_content(\n",
        "    model=MODEL_ID,\n",
        "    contents='Quando é a próxima Imersão IA com Google Gemini da Alura?',\n",
        "    # Inserir a tool de busca do Google ###############################################\n",
        "    config={\"tools\" :[{\"google_search\" : {}}]}\n",
        "    )\n",
        "\n",
        "# Exibe a resposta na tela\n",
        "display(f\"Pergunta: {pergunta}\")\n",
        "display(\"------------------------------------------------------\")\n",
        "display(\"Agora utilizando o mecanismo de busca do Google Search\")\n",
        "display(\"------------------------------------------------------\")\n",
        "# Exibe a busca\n",
        "print(f\"Busca realizada: {response.candidates[0].grounding_metadata.web_search_queries}\")\n",
        "# Exibe as URLs nas quais ele se baseou\n",
        "print(f\"Páginas utilizadas na resposta: {', '.join([site.web.title for site in response.candidates[0].grounding_metadata.grounding_chunks])}\")\n",
        "print()\n",
        "display(HTML(response.candidates[0].grounding_metadata.search_entry_point.rendered_content))\n",
        "\n",
        "display(Markdown(f\"Resposta:\\n {response.text}\"))"
      ],
      "metadata": {
        "id": "yXaZd7iZ4ftw",
        "colab": {
          "base_uri": "https://localhost:8080/",
          "height": 278
        },
        "outputId": "9932663a-7004-44a5-fadb-d5c1840795ef"
      },
      "execution_count": null,
      "outputs": [
        {
          "output_type": "display_data",
          "data": {
            "text/plain": [
              "'Pergunta: Quando é a próxima imersão IA com o Google Gemini da Alura'"
            ],
            "application/vnd.google.colaboratory.intrinsic+json": {
              "type": "string"
            }
          },
          "metadata": {}
        },
        {
          "output_type": "display_data",
          "data": {
            "text/plain": [
              "'------------------------------------------------------'"
            ],
            "application/vnd.google.colaboratory.intrinsic+json": {
              "type": "string"
            }
          },
          "metadata": {}
        },
        {
          "output_type": "display_data",
          "data": {
            "text/plain": [
              "'Agora utilizando o mecanismo de busca do Google Search'"
            ],
            "application/vnd.google.colaboratory.intrinsic+json": {
              "type": "string"
            }
          },
          "metadata": {}
        },
        {
          "output_type": "display_data",
          "data": {
            "text/plain": [
              "'------------------------------------------------------'"
            ],
            "application/vnd.google.colaboratory.intrinsic+json": {
              "type": "string"
            }
          },
          "metadata": {}
        },
        {
          "output_type": "stream",
          "name": "stdout",
          "text": [
            "Busca realizada: ['próxima Imersão IA com Google Gemini da Alura']\n",
            "Páginas utilizadas na resposta: starten.tech\n",
            "\n"
          ]
        },
        {
          "output_type": "display_data",
          "data": {
            "text/plain": [
              "<IPython.core.display.HTML object>"
            ],
            "text/html": [
              "<style>\n",
              ".container {\n",
              "  align-items: center;\n",
              "  border-radius: 8px;\n",
              "  display: flex;\n",
              "  font-family: Google Sans, Roboto, sans-serif;\n",
              "  font-size: 14px;\n",
              "  line-height: 20px;\n",
              "  padding: 8px 12px;\n",
              "}\n",
              ".chip {\n",
              "  display: inline-block;\n",
              "  border: solid 1px;\n",
              "  border-radius: 16px;\n",
              "  min-width: 14px;\n",
              "  padding: 5px 16px;\n",
              "  text-align: center;\n",
              "  user-select: none;\n",
              "  margin: 0 8px;\n",
              "  -webkit-tap-highlight-color: transparent;\n",
              "}\n",
              ".carousel {\n",
              "  overflow: auto;\n",
              "  scrollbar-width: none;\n",
              "  white-space: nowrap;\n",
              "  margin-right: -12px;\n",
              "}\n",
              ".headline {\n",
              "  display: flex;\n",
              "  margin-right: 4px;\n",
              "}\n",
              ".gradient-container {\n",
              "  position: relative;\n",
              "}\n",
              ".gradient {\n",
              "  position: absolute;\n",
              "  transform: translate(3px, -9px);\n",
              "  height: 36px;\n",
              "  width: 9px;\n",
              "}\n",
              "@media (prefers-color-scheme: light) {\n",
              "  .container {\n",
              "    background-color: #fafafa;\n",
              "    box-shadow: 0 0 0 1px #0000000f;\n",
              "  }\n",
              "  .headline-label {\n",
              "    color: #1f1f1f;\n",
              "  }\n",
              "  .chip {\n",
              "    background-color: #ffffff;\n",
              "    border-color: #d2d2d2;\n",
              "    color: #5e5e5e;\n",
              "    text-decoration: none;\n",
              "  }\n",
              "  .chip:hover {\n",
              "    background-color: #f2f2f2;\n",
              "  }\n",
              "  .chip:focus {\n",
              "    background-color: #f2f2f2;\n",
              "  }\n",
              "  .chip:active {\n",
              "    background-color: #d8d8d8;\n",
              "    border-color: #b6b6b6;\n",
              "  }\n",
              "  .logo-dark {\n",
              "    display: none;\n",
              "  }\n",
              "  .gradient {\n",
              "    background: linear-gradient(90deg, #fafafa 15%, #fafafa00 100%);\n",
              "  }\n",
              "}\n",
              "@media (prefers-color-scheme: dark) {\n",
              "  .container {\n",
              "    background-color: #1f1f1f;\n",
              "    box-shadow: 0 0 0 1px #ffffff26;\n",
              "  }\n",
              "  .headline-label {\n",
              "    color: #fff;\n",
              "  }\n",
              "  .chip {\n",
              "    background-color: #2c2c2c;\n",
              "    border-color: #3c4043;\n",
              "    color: #fff;\n",
              "    text-decoration: none;\n",
              "  }\n",
              "  .chip:hover {\n",
              "    background-color: #353536;\n",
              "  }\n",
              "  .chip:focus {\n",
              "    background-color: #353536;\n",
              "  }\n",
              "  .chip:active {\n",
              "    background-color: #464849;\n",
              "    border-color: #53575b;\n",
              "  }\n",
              "  .logo-light {\n",
              "    display: none;\n",
              "  }\n",
              "  .gradient {\n",
              "    background: linear-gradient(90deg, #1f1f1f 15%, #1f1f1f00 100%);\n",
              "  }\n",
              "}\n",
              "</style>\n",
              "<div class=\"container\">\n",
              "  <div class=\"headline\">\n",
              "    <svg class=\"logo-light\" width=\"18\" height=\"18\" viewBox=\"9 9 35 35\" fill=\"none\" xmlns=\"http://www.w3.org/2000/svg\">\n",
              "      <path fill-rule=\"evenodd\" clip-rule=\"evenodd\" d=\"M42.8622 27.0064C42.8622 25.7839 42.7525 24.6084 42.5487 23.4799H26.3109V30.1568H35.5897C35.1821 32.3041 33.9596 34.1222 32.1258 35.3448V39.6864H37.7213C40.9814 36.677 42.8622 32.2571 42.8622 27.0064V27.0064Z\" fill=\"#4285F4\"/>\n",
              "      <path fill-rule=\"evenodd\" clip-rule=\"evenodd\" d=\"M26.3109 43.8555C30.9659 43.8555 34.8687 42.3195 37.7213 39.6863L32.1258 35.3447C30.5898 36.3792 28.6306 37.0061 26.3109 37.0061C21.8282 37.0061 18.0195 33.9811 16.6559 29.906H10.9194V34.3573C13.7563 39.9841 19.5712 43.8555 26.3109 43.8555V43.8555Z\" fill=\"#34A853\"/>\n",
              "      <path fill-rule=\"evenodd\" clip-rule=\"evenodd\" d=\"M16.6559 29.8904C16.3111 28.8559 16.1074 27.7588 16.1074 26.6146C16.1074 25.4704 16.3111 24.3733 16.6559 23.3388V18.8875H10.9194C9.74388 21.2072 9.06992 23.8247 9.06992 26.6146C9.06992 29.4045 9.74388 32.022 10.9194 34.3417L15.3864 30.8621L16.6559 29.8904V29.8904Z\" fill=\"#FBBC05\"/>\n",
              "      <path fill-rule=\"evenodd\" clip-rule=\"evenodd\" d=\"M26.3109 16.2386C28.85 16.2386 31.107 17.1164 32.9095 18.8091L37.8466 13.8719C34.853 11.082 30.9659 9.3736 26.3109 9.3736C19.5712 9.3736 13.7563 13.245 10.9194 18.8875L16.6559 23.3388C18.0195 19.2636 21.8282 16.2386 26.3109 16.2386V16.2386Z\" fill=\"#EA4335\"/>\n",
              "    </svg>\n",
              "    <svg class=\"logo-dark\" width=\"18\" height=\"18\" viewBox=\"0 0 48 48\" xmlns=\"http://www.w3.org/2000/svg\">\n",
              "      <circle cx=\"24\" cy=\"23\" fill=\"#FFF\" r=\"22\"/>\n",
              "      <path d=\"M33.76 34.26c2.75-2.56 4.49-6.37 4.49-11.26 0-.89-.08-1.84-.29-3H24.01v5.99h8.03c-.4 2.02-1.5 3.56-3.07 4.56v.75l3.91 2.97h.88z\" fill=\"#4285F4\"/>\n",
              "      <path d=\"M15.58 25.77A8.845 8.845 0 0 0 24 31.86c1.92 0 3.62-.46 4.97-1.31l4.79 3.71C31.14 36.7 27.65 38 24 38c-5.93 0-11.01-3.4-13.45-8.36l.17-1.01 4.06-2.85h.8z\" fill=\"#34A853\"/>\n",
              "      <path d=\"M15.59 20.21a8.864 8.864 0 0 0 0 5.58l-5.03 3.86c-.98-2-1.53-4.25-1.53-6.64 0-2.39.55-4.64 1.53-6.64l1-.22 3.81 2.98.22 1.08z\" fill=\"#FBBC05\"/>\n",
              "      <path d=\"M24 14.14c2.11 0 4.02.75 5.52 1.98l4.36-4.36C31.22 9.43 27.81 8 24 8c-5.93 0-11.01 3.4-13.45 8.36l5.03 3.85A8.86 8.86 0 0 1 24 14.14z\" fill=\"#EA4335\"/>\n",
              "    </svg>\n",
              "    <div class=\"gradient-container\"><div class=\"gradient\"></div></div>\n",
              "  </div>\n",
              "  <div class=\"carousel\">\n",
              "    <a class=\"chip\" href=\"https://vertexaisearch.cloud.google.com/grounding-api-redirect/AbF9wXF47cjnRNT_Hk89FEbwwdxS-lemyQMYuAEWg8sYwPmXf-0UtxXT-XS0fvvLBSnebfMTFgQ1CMA71JZX8Pq4gqzekvuoquDlS4TaBUneVUfOWa6UvXmPJEuup0gY2HpGXzB_yoTMSKEum6Nu_OPEsdChKI80mJGFoIhJ_JiH7UdGEofA6htkxekX40whnWAQJkg__CXu87QklQF-3Nd8mSvjki17ZiNl8TORh98X53k1kkw0mcn5vRVvfxce\">próxima Imersão IA com Google Gemini da Alura</a>\n",
              "  </div>\n",
              "</div>\n"
            ]
          },
          "metadata": {}
        },
        {
          "output_type": "display_data",
          "data": {
            "text/plain": [
              "<IPython.core.display.Markdown object>"
            ],
            "text/markdown": "Resposta:\n A próxima Imersão IA com Google Gemini da Alura acontecerá entre os dias 12 e 16 de maio de 2025. O curso é gratuito e 100% online, voltado para profissionais de todas as áreas, sem necessidade de conhecimento prévio. A imersão oferece cinco aulas práticas sobre criação de prompts, automação de tarefas e desenvolvimento de agentes autônomos.\n\nVocê pode se inscrever no site da Alura.\n"
          },
          "metadata": {}
        }
      ]
    },
    {
      "cell_type": "code",
      "source": [
        "# Exibe a busca\n",
        "print(f\"Busca realizada: {response.candidates[0].grounding_metadata.web_search_queries}\")\n",
        "# Exibe as URLs nas quais ele se baseou\n",
        "print(f\"Páginas utilizadas na resposta: {', '.join([site.web.title for site in response.candidates[0].grounding_metadata.grounding_chunks])}\")\n",
        "print()\n",
        "display(HTML(response.candidates[0].grounding_metadata.search_entry_point.rendered_content))"
      ],
      "metadata": {
        "id": "xHSNlTd84heJ",
        "colab": {
          "base_uri": "https://localhost:8080/",
          "height": 117
        },
        "outputId": "d770f402-a20e-46bc-9163-5118546b34e7"
      },
      "execution_count": null,
      "outputs": [
        {
          "output_type": "stream",
          "name": "stdout",
          "text": [
            "Busca realizada: ['próxima Imersão IA com Google Gemini da Alura']\n",
            "Páginas utilizadas na resposta: starten.tech\n",
            "\n"
          ]
        },
        {
          "output_type": "display_data",
          "data": {
            "text/plain": [
              "<IPython.core.display.HTML object>"
            ],
            "text/html": [
              "<style>\n",
              ".container {\n",
              "  align-items: center;\n",
              "  border-radius: 8px;\n",
              "  display: flex;\n",
              "  font-family: Google Sans, Roboto, sans-serif;\n",
              "  font-size: 14px;\n",
              "  line-height: 20px;\n",
              "  padding: 8px 12px;\n",
              "}\n",
              ".chip {\n",
              "  display: inline-block;\n",
              "  border: solid 1px;\n",
              "  border-radius: 16px;\n",
              "  min-width: 14px;\n",
              "  padding: 5px 16px;\n",
              "  text-align: center;\n",
              "  user-select: none;\n",
              "  margin: 0 8px;\n",
              "  -webkit-tap-highlight-color: transparent;\n",
              "}\n",
              ".carousel {\n",
              "  overflow: auto;\n",
              "  scrollbar-width: none;\n",
              "  white-space: nowrap;\n",
              "  margin-right: -12px;\n",
              "}\n",
              ".headline {\n",
              "  display: flex;\n",
              "  margin-right: 4px;\n",
              "}\n",
              ".gradient-container {\n",
              "  position: relative;\n",
              "}\n",
              ".gradient {\n",
              "  position: absolute;\n",
              "  transform: translate(3px, -9px);\n",
              "  height: 36px;\n",
              "  width: 9px;\n",
              "}\n",
              "@media (prefers-color-scheme: light) {\n",
              "  .container {\n",
              "    background-color: #fafafa;\n",
              "    box-shadow: 0 0 0 1px #0000000f;\n",
              "  }\n",
              "  .headline-label {\n",
              "    color: #1f1f1f;\n",
              "  }\n",
              "  .chip {\n",
              "    background-color: #ffffff;\n",
              "    border-color: #d2d2d2;\n",
              "    color: #5e5e5e;\n",
              "    text-decoration: none;\n",
              "  }\n",
              "  .chip:hover {\n",
              "    background-color: #f2f2f2;\n",
              "  }\n",
              "  .chip:focus {\n",
              "    background-color: #f2f2f2;\n",
              "  }\n",
              "  .chip:active {\n",
              "    background-color: #d8d8d8;\n",
              "    border-color: #b6b6b6;\n",
              "  }\n",
              "  .logo-dark {\n",
              "    display: none;\n",
              "  }\n",
              "  .gradient {\n",
              "    background: linear-gradient(90deg, #fafafa 15%, #fafafa00 100%);\n",
              "  }\n",
              "}\n",
              "@media (prefers-color-scheme: dark) {\n",
              "  .container {\n",
              "    background-color: #1f1f1f;\n",
              "    box-shadow: 0 0 0 1px #ffffff26;\n",
              "  }\n",
              "  .headline-label {\n",
              "    color: #fff;\n",
              "  }\n",
              "  .chip {\n",
              "    background-color: #2c2c2c;\n",
              "    border-color: #3c4043;\n",
              "    color: #fff;\n",
              "    text-decoration: none;\n",
              "  }\n",
              "  .chip:hover {\n",
              "    background-color: #353536;\n",
              "  }\n",
              "  .chip:focus {\n",
              "    background-color: #353536;\n",
              "  }\n",
              "  .chip:active {\n",
              "    background-color: #464849;\n",
              "    border-color: #53575b;\n",
              "  }\n",
              "  .logo-light {\n",
              "    display: none;\n",
              "  }\n",
              "  .gradient {\n",
              "    background: linear-gradient(90deg, #1f1f1f 15%, #1f1f1f00 100%);\n",
              "  }\n",
              "}\n",
              "</style>\n",
              "<div class=\"container\">\n",
              "  <div class=\"headline\">\n",
              "    <svg class=\"logo-light\" width=\"18\" height=\"18\" viewBox=\"9 9 35 35\" fill=\"none\" xmlns=\"http://www.w3.org/2000/svg\">\n",
              "      <path fill-rule=\"evenodd\" clip-rule=\"evenodd\" d=\"M42.8622 27.0064C42.8622 25.7839 42.7525 24.6084 42.5487 23.4799H26.3109V30.1568H35.5897C35.1821 32.3041 33.9596 34.1222 32.1258 35.3448V39.6864H37.7213C40.9814 36.677 42.8622 32.2571 42.8622 27.0064V27.0064Z\" fill=\"#4285F4\"/>\n",
              "      <path fill-rule=\"evenodd\" clip-rule=\"evenodd\" d=\"M26.3109 43.8555C30.9659 43.8555 34.8687 42.3195 37.7213 39.6863L32.1258 35.3447C30.5898 36.3792 28.6306 37.0061 26.3109 37.0061C21.8282 37.0061 18.0195 33.9811 16.6559 29.906H10.9194V34.3573C13.7563 39.9841 19.5712 43.8555 26.3109 43.8555V43.8555Z\" fill=\"#34A853\"/>\n",
              "      <path fill-rule=\"evenodd\" clip-rule=\"evenodd\" d=\"M16.6559 29.8904C16.3111 28.8559 16.1074 27.7588 16.1074 26.6146C16.1074 25.4704 16.3111 24.3733 16.6559 23.3388V18.8875H10.9194C9.74388 21.2072 9.06992 23.8247 9.06992 26.6146C9.06992 29.4045 9.74388 32.022 10.9194 34.3417L15.3864 30.8621L16.6559 29.8904V29.8904Z\" fill=\"#FBBC05\"/>\n",
              "      <path fill-rule=\"evenodd\" clip-rule=\"evenodd\" d=\"M26.3109 16.2386C28.85 16.2386 31.107 17.1164 32.9095 18.8091L37.8466 13.8719C34.853 11.082 30.9659 9.3736 26.3109 9.3736C19.5712 9.3736 13.7563 13.245 10.9194 18.8875L16.6559 23.3388C18.0195 19.2636 21.8282 16.2386 26.3109 16.2386V16.2386Z\" fill=\"#EA4335\"/>\n",
              "    </svg>\n",
              "    <svg class=\"logo-dark\" width=\"18\" height=\"18\" viewBox=\"0 0 48 48\" xmlns=\"http://www.w3.org/2000/svg\">\n",
              "      <circle cx=\"24\" cy=\"23\" fill=\"#FFF\" r=\"22\"/>\n",
              "      <path d=\"M33.76 34.26c2.75-2.56 4.49-6.37 4.49-11.26 0-.89-.08-1.84-.29-3H24.01v5.99h8.03c-.4 2.02-1.5 3.56-3.07 4.56v.75l3.91 2.97h.88z\" fill=\"#4285F4\"/>\n",
              "      <path d=\"M15.58 25.77A8.845 8.845 0 0 0 24 31.86c1.92 0 3.62-.46 4.97-1.31l4.79 3.71C31.14 36.7 27.65 38 24 38c-5.93 0-11.01-3.4-13.45-8.36l.17-1.01 4.06-2.85h.8z\" fill=\"#34A853\"/>\n",
              "      <path d=\"M15.59 20.21a8.864 8.864 0 0 0 0 5.58l-5.03 3.86c-.98-2-1.53-4.25-1.53-6.64 0-2.39.55-4.64 1.53-6.64l1-.22 3.81 2.98.22 1.08z\" fill=\"#FBBC05\"/>\n",
              "      <path d=\"M24 14.14c2.11 0 4.02.75 5.52 1.98l4.36-4.36C31.22 9.43 27.81 8 24 8c-5.93 0-11.01 3.4-13.45 8.36l5.03 3.85A8.86 8.86 0 0 1 24 14.14z\" fill=\"#EA4335\"/>\n",
              "    </svg>\n",
              "    <div class=\"gradient-container\"><div class=\"gradient\"></div></div>\n",
              "  </div>\n",
              "  <div class=\"carousel\">\n",
              "    <a class=\"chip\" href=\"https://vertexaisearch.cloud.google.com/grounding-api-redirect/AbF9wXF47cjnRNT_Hk89FEbwwdxS-lemyQMYuAEWg8sYwPmXf-0UtxXT-XS0fvvLBSnebfMTFgQ1CMA71JZX8Pq4gqzekvuoquDlS4TaBUneVUfOWa6UvXmPJEuup0gY2HpGXzB_yoTMSKEum6Nu_OPEsdChKI80mJGFoIhJ_JiH7UdGEofA6htkxekX40whnWAQJkg__CXu87QklQF-3Nd8mSvjki17ZiNl8TORh98X53k1kkw0mcn5vRVvfxce\">próxima Imersão IA com Google Gemini da Alura</a>\n",
              "  </div>\n",
              "</div>\n"
            ]
          },
          "metadata": {}
        }
      ]
    },
    {
      "cell_type": "code",
      "source": [
        "# Instalar Framework ADK de agentes do Google ################################################\n",
        "!pip install -q google-adk"
      ],
      "metadata": {
        "id": "hvZ3UnPI4jhJ"
      },
      "execution_count": null,
      "outputs": []
    },
    {
      "cell_type": "code",
      "execution_count": null,
      "metadata": {
        "id": "aePV2bdfDeoW"
      },
      "outputs": [],
      "source": [
        "from google.adk.agents import Agent\n",
        "from google.adk.runners import Runner\n",
        "from google.adk.sessions import InMemorySessionService\n",
        "from google.adk.tools import google_search\n",
        "from google.genai import types  # Para criar conteúdos (Content e Part)\n",
        "from datetime import date\n",
        "import textwrap # Para formatar melhor a saída de texto\n",
        "from IPython.display import display, Markdown # Para exibir texto formatado no Colab\n",
        "import requests # Para fazer requisições HTTP\n",
        "import warnings\n",
        "\n",
        "warnings.filterwarnings(\"ignore\")"
      ]
    },
    {
      "cell_type": "code",
      "source": [
        "# Função auxiliar que envia uma mensagem para um agente via Runner e retorna a resposta final\n",
        "def call_agent(agent: Agent, message_text: str) -> str:\n",
        "    # Cria um serviço de sessão em memória\n",
        "    session_service = InMemorySessionService()\n",
        "    # Cria uma nova sessão (você pode personalizar os IDs conforme necessário)\n",
        "    session = session_service.create_session(app_name=agent.name, user_id=\"user1\", session_id=\"session1\")\n",
        "    # Cria um Runner para o agente\n",
        "    runner = Runner(agent=agent, app_name=agent.name, session_service=session_service)\n",
        "    # Cria o conteúdo da mensagem de entrada\n",
        "    content = types.Content(role=\"user\", parts=[types.Part(text=message_text)])\n",
        "\n",
        "    final_response = \"\"\n",
        "    # Itera assincronamente pelos eventos retornados durante a execução do agente\n",
        "    for event in runner.run(user_id=\"user1\", session_id=\"session1\", new_message=content):\n",
        "        if event.is_final_response():\n",
        "          for part in event.content.parts:\n",
        "            if part.text is not None:\n",
        "              final_response += part.text\n",
        "              final_response += \"\\n\"\n",
        "    return final_response"
      ],
      "metadata": {
        "id": "_xP4lWhsS5ko"
      },
      "execution_count": null,
      "outputs": []
    },
    {
      "cell_type": "code",
      "source": [
        "# Função auxiliar para exibir texto formatado em Markdown no Colab\n",
        "def to_markdown(text):\n",
        "  text = text.replace('•', '  *')\n",
        "  return Markdown(textwrap.indent(text, '> ', predicate=lambda _: True))"
      ],
      "metadata": {
        "id": "8dosiodaxfFR"
      },
      "execution_count": null,
      "outputs": []
    },
    {
      "cell_type": "code",
      "source": [
        "##########################################\n",
        "# --- Agente 1: Buscador de Notícias --- #\n",
        "##########################################\n",
        "def agente_buscador(topico, data_de_hoje):\n",
        "  buscador = Agent(\n",
        "      name=\"agente_buscador\",\n",
        "      model=\"gemini-2.0-flash\",\n",
        "      description=\"Agente que busca conteúdo no Google\",\n",
        "      tools=[google_search],\n",
        "      instruction=\"\"\"\n",
        "      Você é um assistente de pesquisa. A sua tarefa é utilizar o mecanismo de busca do Google (google_search)\n",
        "      para recuperar as ultimas noticias de lançamentos muito relevantes sobre o tópico abaixo.\n",
        "      Foque em no máximo 5 lançamentos relevantes, com base na quantidade e entusiamos das notícias sobre ele.\n",
        "      Se um tema tiver poucas notícias ou reações entusiasmadas, é possivel que ele não seja tão relevante assim e pode ser subtituido por outro que tenha mais.\n",
        "      Estes lançamentos devem ser atuais, de no máximo um mês antes da data de hoje.\n",
        "      \"\"\"\n",
        "  )\n",
        "  # Execução da função\n",
        "  entrada_do_agente_buscador = f\"Tópico: {topico}\\nData de hoje: {data_de_hoje}\"\n",
        "  lancamentos = call_agent(buscador, entrada_do_agente_buscador)\n",
        "  return lancamentos\n"
      ],
      "metadata": {
        "id": "o8bqIfi_DyH8"
      },
      "execution_count": null,
      "outputs": []
    },
    {
      "cell_type": "code",
      "source": [
        "################################################\n",
        "# --- Agente 2: Planejador de posts --- #\n",
        "################################################\n",
        "def agente_planejador(topico, lancamentos_buscados):\n",
        "    planejador = Agent(\n",
        "        name=\"agente_planejador\",\n",
        "        model=\"gemini-2.0-flash\",\n",
        "        # Inserir as instruções do Agente Planejador #################################################\n",
        "        instruction=\"\"\"\n",
        "        Você é um planejador de conteúdo, especialista em redes sociais. Com base na lista de\n",
        "        lançamentos mais recentes e relavantes buscados você deve:\n",
        "        usar a ferramenta de busca do google (google_search) para criar um plano sobre quais são os pontos mais relevantes\n",
        "        que poderiamos abordar em um post sobre cada um deles. Voc~e também pode usar o (google_search) para encontrar\n",
        "        mais informações sobre os temas e aprofundar.\n",
        "        Ao final você ira escolher o tema mais relevante entre eles com base nas suas pesquisas e retornar este tema\n",
        "        seus pontos mais relevantes, e um plano com os assuntos a serem abordados no post que será escrito posteriormente.\n",
        "        \"\"\",\n",
        "        description=\"Agente que planeja posts\",\n",
        "        tools=[google_search]\n",
        "    )\n",
        "\n",
        "    entrada_do_agente_planejador = f\"Tópico:{topico}\\nLançamentos buscados: {lancamentos_buscados}\"\n",
        "    # Executa o agente\n",
        "    plano_do_post = call_agent(planejador, entrada_do_agente_planejador)\n",
        "    return plano_do_post"
      ],
      "metadata": {
        "id": "y3VO1uo5_ghO"
      },
      "execution_count": null,
      "outputs": []
    },
    {
      "cell_type": "code",
      "source": [
        "######################################\n",
        "# --- Agente 3: Redator do Post --- #\n",
        "######################################\n",
        "def agente_redator(topico, plano_de_post):\n",
        "    redator = Agent(\n",
        "        name=\"agente_redator\",\n",
        "        model=\"gemini-2.0-flash\",\n",
        "        instruction=\"\"\"\n",
        "            Você é um Redator Criativo especializado em criar posts virais para redes sociais.\n",
        "            Você escreve posts para a empresa Alura, a maior escola online de tecnologia do Brasil.\n",
        "            Utilize o tema fornecido no plano de post e os pontos mais relevantes fornecidos e, com base nisso,\n",
        "            escreva um rascunho de post para Instagram sobre o tema indicado.\n",
        "            O post deve ser engajador, informativo, com linguagem simples e incluir 2 a 4 hashtags no final.\n",
        "            \"\"\",\n",
        "        description=\"Agente redator de posts engajadores para Instagram\"\n",
        "    )\n",
        "    entrada_do_agente_redator = f\"Tópico: {topico}\\nPlano de post: {plano_de_post}\"\n",
        "    # Executa o agente\n",
        "    rascunho = call_agent(redator, entrada_do_agente_redator)\n",
        "    return rascunho"
      ],
      "metadata": {
        "id": "uOqlg2TRLVh1"
      },
      "execution_count": null,
      "outputs": []
    },
    {
      "cell_type": "code",
      "source": [
        "##########################################\n",
        "# --- Agente 4: Revisor de Qualidade --- #\n",
        "##########################################\n",
        "# model=\"gemini-2.5-pro-preview-03-25\",\n",
        "def agente_revisor(topico, rascunho_gerado):\n",
        "    revisor = Agent(\n",
        "        name=\"agente_revisor\",\n",
        "         model=\"gemini-2.0-flash\",\n",
        "        instruction=\"\"\"\n",
        "            Você é um Editor e Revisor de Conteúdo meticuloso, especializado em posts para redes sociais, com foco no Instagram.\n",
        "            Por ter um público jovem, entre 18 e 30 anos, use um tom de escrita adequado.\n",
        "            Revise o rascunho de post de Instagram abaixo sobre o tópico indicado, verificando clareza, concisão, correção e tom.\n",
        "            Se o rascunho estiver bom, responda apenas 'O rascunho está ótimo e pronto para publicar!'.\n",
        "            Caso haja problemas, aponte-os e sugira melhorias.\n",
        "            \"\"\",\n",
        "        description=\"Agente revisor de post para redes sociais.\"\n",
        "    )\n",
        "    entrada_do_agente_revisor = f\"Tópico: {topico}\\nRascunho: {rascunho_gerado}\"\n",
        "    # Executa o agente\n",
        "    texto_revisado = call_agent(revisor, entrada_do_agente_revisor)\n",
        "    return texto_revisado"
      ],
      "metadata": {
        "id": "_aTb1SdkLeT6"
      },
      "execution_count": null,
      "outputs": []
    },
    {
      "cell_type": "code",
      "source": [
        "data_de_hoje = date.today().strftime(\"%d/%m/%Y\")\n",
        "\n",
        "print(\"🚀 Iniciando o Sistema de Criação de Posts para Instagram com 4 Agentes 🚀\")\n",
        "\n",
        "# --- Obter o Tópico do Usuário ---\n",
        "topico = input(\"❓ Por favor, digite o TÓPICO sobre o qual você quer criar o post de tendências: \")\n",
        "\n",
        "# Inserir lógica do sistema de agentes ################################################\n",
        "if not topico:\n",
        "  print(\"Você esqueceu de digitar o seu topico de pesquisa!\")\n",
        "else:\n",
        "  print(f\"Maravilha! Vamos então criar o posto sobre o tópico: {topico}\")\n",
        "\n",
        "  lancamentos_buscados = agente_buscador(topico, data_de_hoje)\n",
        "  print(\"\\n --- Resultado do Agente 1 ( Buscador ) ---\\n\")\n",
        "  display(to_markdown(lancamentos_buscados))\n",
        "  print(\"---------------------------------------------------------------------\")\n",
        "\n",
        "  plano_post = agente_planejador(topico, lancamentos_buscados)\n",
        "  print(\"\\n --- Resultado do Agente 2 ( Planejador ) ---\\n\")\n",
        "  display(to_markdown(plano_post))\n",
        "  print(\"---------------------------------------------------------------------\")\n",
        "\n",
        "  rascunho_post = agente_redator(topico, plano_post)\n",
        "  print(\"\\n --- Resultado do Agente 3 ( Redator ) ---\\n\")\n",
        "  display(to_markdown(rascunho_post))\n",
        "  print(\"---------------------------------------------------------------------\")\n",
        "\n",
        "  versao_de_post = agente_revisor(topico, rascunho_post)\n",
        "  print(\"\\n --- Resultado do Agente 4 ( Revisor ) ---\\n\")\n",
        "  display(to_markdown(versao_de_post))\n",
        "  print(\"---------------------------------------------------------------------\")\n",
        "\n"
      ],
      "metadata": {
        "id": "630ummxz4myx",
        "colab": {
          "base_uri": "https://localhost:8080/",
          "height": 1000
        },
        "outputId": "f858f022-274b-427b-895d-86cf99db0a3b"
      },
      "execution_count": null,
      "outputs": [
        {
          "output_type": "stream",
          "name": "stdout",
          "text": [
            "🚀 Iniciando o Sistema de Criação de Posts para Instagram com 4 Agentes 🚀\n",
            "❓ Por favor, digite o TÓPICO sobre o qual você quer criar o post de tendências: charutos americanos\n",
            "Maravilha! Vamos então criar o posto sobre o tópico: charutos americanos\n",
            "\n",
            " --- Resultado do Agente 1 ( Buscador ) ---\n",
            "\n"
          ]
        },
        {
          "output_type": "display_data",
          "data": {
            "text/plain": [
              "<IPython.core.display.Markdown object>"
            ],
            "text/markdown": "> Para encontrar os lançamentos de charutos americanos mais relevantes e recentes, vou usar o mecanismo de busca para identificar os charutos que geraram mais notícias e entusiasmo no último mês.\n> \n> \n> Com base nas minhas buscas, aqui estão alguns dos lançamentos de charutos americanos mais recentes e relevantes, focando em notícias e entusiasmo gerado:\n> \n> 1.  **Davidoff Winston Churchill Limited Edition 2025** Esta é a quinta edição da popular \"Original Series\". Este charuto de edição limitada apresenta uma nova mistura de tabacos da Nicarágua, República Dominicana, México e Equador, proporcionando um sabor único no formato Churchill (178 mm x 48). A produção é limitada a 18.000 caixas mundialmente. A embalagem e a faixa exibem uma pintura do icônico líder Winston Churchill.\n> 2.  **VegaFina Year of the Snake 2025:** Lançado para comemorar o Ano Novo Chinês, este charuto apresenta um blend equilibrado com tabacos da República Dominicana, Nicarágua e Equador, oferecendo notas amadeiradas, florais, café e baunilha. O formato Coronas Extra (159 mm x 46) destaca-se pelo elegante \"pigtail\" duplo, inspirado na forma da língua da cobra.\n> 3.  **Fuente Fuente OpusX La Edición de la Sociedad:** Este charuto foi lançado com uma festa em Miami e é oferecido em um único formato de 6 1/4 x 49, destacando-se pela paleta de cores azul e amarela. A marca Fuente Fuente OpusX é uma das mais procuradas pelos consumidores.\n> 4.  **Compay Cigars Alma Forte:** A marca brasileira Compay Cigars apresentou o \"Alma Forte\", um charuto 100% nacional com tabacos cubra. Este lançamento destaca-se pela qualidade do tabaco brasileiro e pela proposta de oferecer uma experiência autêntica aos apreciadores.\n> 5.  **Joya De Nicaragua Cinco De Cinco TAA Exclusive:** Este charuto foi notado como magnífico por membros de clubes de charutos.\n> \n> Além desses lançamentos, é importante notar que a União Europeia está considerando tarifas sobre charutos americanos. Em abril de 2025, a União Europeia divulgou uma lista de mais de 400 produtos americanos, incluindo charutos, que poderão ser alvo de tarifas retaliatórias caso as negociações comerciais com os EUA não avancem. As tarifas adicionais podem chegar a 25%.\n> \n"
          },
          "metadata": {}
        },
        {
          "output_type": "stream",
          "name": "stdout",
          "text": [
            "---------------------------------------------------------------------\n",
            "\n",
            " --- Resultado do Agente 2 ( Planejador ) ---\n",
            "\n"
          ]
        },
        {
          "output_type": "display_data",
          "data": {
            "text/plain": [
              "<IPython.core.display.Markdown object>"
            ],
            "text/markdown": "> Okay, com base nos lançamentos de charutos americanos mais recentes e relevantes que você me forneceu, vou elaborar um plano de conteúdo para redes sociais. Meu objetivo é identificar os pontos mais relevantes para abordar em posts sobre cada um desses lançamentos e, ao final, escolher o tema mais interessante para um plano de postagem detalhado.\n> \n> **Tópicos e Pontos Relevantes:**\n> \n> 1.  **Davidoff Winston Churchill Limited Edition 2025:**\n>     *   **Relevância:** Edição limitada, apelo à história e à figura icônica de Winston Churchill.\n>     *   **Pontos:**\n>         *   Nova mistura de tabacos de diferentes origens (Nicarágua, República Dominicana, México e Equador).\n>         *   Formato Churchill (178 mm x 48).\n>         *   Produção limitada (18.000 caixas mundialmente).\n>         *   Design da embalagem e da faixa com pintura de Churchill.\n> 2.  **VegaFina Year of the Snake 2025:**\n>     *   **Relevância:** Edição comemorativa do Ano Novo Chinês, apelo à cultura e simbolismo.\n>     *   **Pontos:**\n>         *   Blend equilibrado com tabacos da República Dominicana, Nicarágua e Equador.\n>         *   Notas de degustação: amadeirado, floral, café e baunilha.\n>         *   Formato Coronas Extra (159 mm x 46) com \"pigtail\" duplo.\n>         *   Embalagem temática do Ano da Cobra.\n> 3.  **Fuente Fuente OpusX La Edición de la Sociedad:**\n>     *   **Relevância:** Marca de prestígio, lançamento exclusivo em evento.\n>     *   **Pontos:**\n>         *   Lançamento em festa exclusiva em Miami.\n>         *   Formato único de 6 1/4 x 49.\n>         *   Paleta de cores azul e amarela.\n>         *   Apelo à exclusividade e ao colecionismo.\n> 4.  **Compay Cigars Alma Forte:**\n>     *   **Relevância:** Charuto 100% nacional (brasileiro), destaque para a produção local.\n>     *   **Pontos:**\n>         *   Tabaco Cubra nacional.\n>         *   Qualidade do tabaco brasileiro.\n>         *   Proposta de experiência autêntica.\n>         *   Potencial para valorizar a produção nacional.\n> 5.  **Joya De Nicaragua Cinco De Cinco TAA Exclusive:**\n>     *   **Relevância:** Magnífico, exclusivo.\n>     *   **Pontos:**\n>         *   Apreciação de membros de clubes de charutos.\n> 6.  **Tarifas da União Europeia sobre charutos americanos:**\n>     *   **Relevância:** Impacto no mercado, possível aumento de preços.\n>     *   **Pontos:**\n>         *   Ameaça de tarifas retaliatórias de até 25%.\n>         *   Lista de mais de 400 produtos americanos afetados.\n>         *   Impacto potencial nos preços e na disponibilidade dos charutos.\n> \n> **Tema Mais Relevante e Plano de Postagem:**\n> \n> Considerando a atualidade e o potencial de gerar discussões e engajamento, o tema mais relevante é o das **Tarifas da União Europeia sobre charutos americanos**.\n> \n> **Plano de Postagem:**\n> \n> *   **Título:** \"Atenção, apreciadores de charutos americanos! A UE pode taxar seus charutos favoritos.\"\n> *   **Assuntos a serem abordados:**\n>     1.  **Introdução:**\n>         *   Contextualizar a situação: a União Europeia está considerando impor tarifas sobre charutos americanos.\n>         *   Explicar o motivo: negociações comerciais tensas entre os EUA e a UE.\n>     2.  **Detalhes das tarifas:**\n>         *   Informar sobre a porcentagem das tarifas (até 25%).\n>         *   Mencionar a lista de produtos afetados (mais de 400).\n>     3.  **Impacto para os consumidores:**\n>         *   Possível aumento de preços dos charutos americanos na Europa.\n>         *   Potencial impacto na disponibilidade de certas marcas e edições limitadas.\n>     4.  **Call to action:**\n>         *   Incentivar os seguidores a expressarem suas opiniões sobre o assunto.\n>         *   Perguntar se eles estão preocupados com o possível aumento de preços.\n>         *   Sugerir que entrem em contato com seus representantes políticos para expressar sua preocupação.\n>     5.  **Hashtags:**\n>         *   #charutosamericanos #tarifasUE #comérciointernacional #cigars #charuto #tabaco #notícias #economia #preços\n> \n> **Próximos Passos:**\n> \n> Com este plano em mãos, o próximo passo seria desenvolver o texto completo do post, buscando fontes adicionais para confirmar as informações e enriquecer o conteúdo. Também seria importante criar um visual atraente para o post, como uma imagem ou vídeo relacionado ao tema.\n> \n"
          },
          "metadata": {}
        },
        {
          "output_type": "stream",
          "name": "stdout",
          "text": [
            "---------------------------------------------------------------------\n",
            "\n",
            " --- Resultado do Agente 3 ( Redator ) ---\n",
            "\n"
          ]
        },
        {
          "output_type": "display_data",
          "data": {
            "text/plain": [
              "<IPython.core.display.Markdown object>"
            ],
            "text/markdown": "> 🚨 Atenção, amantes de charutos americanos! 🚨\n> \n> Uma notícia que pode impactar diretamente o seu próximo charuto: a União Europeia está considerando impor tarifas de até 25% sobre charutos americanos! 😱\n> \n> Isso acontece devido a tensões nas negociações comerciais entre os EUA e a UE, e a lista de produtos afetados é gigante, com mais de 400 itens! 😬\n> \n> **E o que isso significa pra você?** \n> 📈 Aumento nos preços dos seus charutos favoritos.\n> 😕 Possível diminuição na disponibilidade de algumas marcas e edições limitadas.\n> \n> Queremos saber a sua opinião! 🤔\n> \n> Você está preocupado com essa possível taxação? Acha que isso vai impactar o seu consumo de charutos americanos? Deixe seu comentário! 👇\n> \n> E não se esqueça: sua voz importa! Entre em contato com seus representantes políticos e mostre sua preocupação! 🗣️\n> \n> #charutosamericanos #tarifasUE #comérciointernacional #charuto\n> \n"
          },
          "metadata": {}
        },
        {
          "output_type": "stream",
          "name": "stdout",
          "text": [
            "---------------------------------------------------------------------\n",
            "\n",
            " --- Resultado do Agente 4 ( Revisor ) ---\n",
            "\n"
          ]
        },
        {
          "output_type": "display_data",
          "data": {
            "text/plain": [
              "<IPython.core.display.Markdown object>"
            ],
            "text/markdown": "> O rascunho está bom, mas podemos deixá-lo ainda mais interessante e engajador para o público do Instagram, com foco em jovens de 18 a 30 anos. Aqui estão minhas sugestões:\n> \n> **Problemas identificados e sugestões:**\n> \n> *   **Tom:** O tom está um pouco alarmista (\"Atenção!\", \"😱\"). Podemos suavizar para algo mais informativo e interessante.\n> *   **Emojis:** O uso excessivo de emojis pode cansar. Vamos equilibrar.\n> *   **Chamada para ação:** Podemos deixar a chamada para ação mais direta e convidativa.\n> *   **Hashtags:** Adicionar algumas hashtags mais específicas e relevantes para o público.\n> \n> **Rascunho revisado:**\n> \n> E aí, galera do charuto! 💨🇺🇸\n> \n> Notícia importante pra quem curte um bom charuto americano: a União Europeia pode taxar esses produtos em até 25%! 💸\n> \n> **Por que isso tá rolando?**\n> A parada é que EUA e UE estão meio que \"trocando farpas\" nas negociações de comércio, e adivinha quem pode pagar o pato? Nossos charutos! 🥺 São mais de 400 produtos na lista!\n> \n> **E o que muda pra gente?**\n> 💰 Se preparem para preços mais altos nos seus charutos favoritos.\n> Limitadas.\n> 🤔 Talvez role até um sumiço de algumas marcas e edições\n> \n> **E aí, qual a boa?**\n> Queremos saber o que você pensa! Essa possível taxação te preocupa? Deixe seu comentário! 👇\n> \n> Sua opinião faz a diferença! Se liga nos seus representantes políticos e mostra a sua voz! 🗣️\n> \n> #charutosamericanos #taxasUE #charutando #cigaraficionado #charutolife #fumetas #confrariadocharuto #cigar #charuto\n> \n> **Justificativas das mudanças:**\n> \n> *   **Tom:** Mais casual e informativo, usando gírias como \"galera\", \"parada\" e \"e aí, qual a boa?\".\n> *   **Emojis:** Uso mais estratégico para complementar o texto, sem exagerar.\n> *   **Chamada para ação:** Mais direta (\"Deixe seu comentário!\").\n> *   **Hashtags:** Adicionadas hashtags mais específicas para o nicho de charutos e para o público jovem.\n> *   **Formatação:** Quebra de linhas e uso de negrito para facilitar a leitura no mobile.\n"
          },
          "metadata": {}
        },
        {
          "output_type": "stream",
          "name": "stdout",
          "text": [
            "---------------------------------------------------------------------\n"
          ]
        }
      ]
    }
  ]
}